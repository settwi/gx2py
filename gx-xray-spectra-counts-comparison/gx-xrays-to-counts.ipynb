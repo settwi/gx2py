{
 "cells": [
  {
   "cell_type": "markdown",
   "metadata": {},
   "source": [
    "# Example manipulating GX_Simulator output: counts spectrum from photon spectrum\n",
    "## Please download the data files from [here](https://drive.google.com/drive/folders/1TlkJ4RoDRLIhGxWXoLCCKpD8aMarn1Cq) and read the [accompanying readme.txt](https://drive.google.com/file/d/1uYQ5aEZFd3Z6R-rv-TB-JXWVb4l1GkLv) for more information. The readme contents are replicated in this folder's README.md for convenience.\n",
    "## Once you download the files you should be able to hit \"run all\" and see some plots pop up, assuming you have the requirements to run `%matplotlib qt`"
   ]
  },
  {
   "cell_type": "code",
   "execution_count": null,
   "metadata": {},
   "outputs": [],
   "source": [
    "# Standard Python packages\n",
    "import astropy.units as u\n",
    "from astropy.io import fits\n",
    "import numpy as np\n",
    "import matplotlib.pyplot as plt\n",
    "from scipy.io import readsav\n",
    "import astropy.time as atime\n",
    "from scipy import integrate\n",
    "\n",
    "# Custom files for reading in Fermi/GBM and STIX data\n",
    "import fermi_load\n",
    "import stix_srm_loader\n",
    "\n",
    "%matplotlib qt"
   ]
  },
  {
   "cell_type": "markdown",
   "metadata": {},
   "source": [
    "# Fermi case"
   ]
  },
  {
   "cell_type": "markdown",
   "metadata": {},
   "source": [
    "## Observation time definition and load in the Fermi counts"
   ]
  },
  {
   "cell_type": "code",
   "execution_count": null,
   "metadata": {},
   "outputs": [],
   "source": [
    "start, end = atime.Time('2022-03-28T17:12:18'), atime.Time('2022-03-28T17:12:21')\n",
    "counts_file = 'glg_cspec_n5_220328_v00.pha'\n",
    "cspec_dat = fermi_load.load_ctime(counts_file)\n",
    "count_bins = np.concatenate((cspec_dat.energy_bins[:, 0], [cspec_dat.energy_bins[-1, -1]]))"
   ]
  },
  {
   "cell_type": "markdown",
   "metadata": {},
   "source": [
    "## Get the SRM from the file and get the photon model energy bins"
   ]
  },
  {
   "cell_type": "code",
   "execution_count": null,
   "metadata": {},
   "outputs": [],
   "source": [
    "srm_file = 'glg_cspec_n5_bn220328_1709_715_v00.rsp2'\n",
    "with fits.open(srm_file) as f:\n",
    "    left_edges = f[2].data['ENERG_LO']\n",
    "    right_edges = f[2].data['ENERG_HI']\n",
    "    photon_model_edges = np.concatenate((left_edges, [right_edges[-1]])) << u.keV\n",
    "\n",
    "    # annoying to find manually so i just hard coded it here\n",
    "    # you nee dto match up the observing time with the matrix time.\n",
    "    desired_matrix = f[3+2]\n",
    "    # Looks good\n",
    "    print(\n",
    "        'matrix valid from:', desired_matrix.header['DATE-OBS'],\n",
    "        'to', desired_matrix.header['DATE-END'])\n",
    "    print('which completely captures the observing time:', start, end)\n",
    "    srm = []\n",
    "    for row in desired_matrix.data['MATRIX']:\n",
    "        srm.append(row)\n",
    "\n",
    "    # Last row is just a single element; make it a full one\n",
    "    # SRM unit is cm2 . ct / ph\n",
    "    srm[-1] = [0] * len(srm[0]) \n",
    "    srm = np.array(srm).astype(float) << u.cm**2 * u.ct / u.ph"
   ]
  },
  {
   "cell_type": "markdown",
   "metadata": {},
   "source": [
    "## Bin the photon model into something compatible with GBM\n",
    "### Note that there will be edge effects because the photon spectrum has a sharp cutoff"
   ]
  },
  {
   "cell_type": "code",
   "execution_count": null,
   "metadata": {},
   "outputs": [],
   "source": [
    "gelu_data = readsav('xray_spectrum.sav')\n",
    "\n",
    "def gelu_interp(x):\n",
    "    return np.interp(x, gelu_data['energies'], gelu_data['spectrum'], left=0, right=0)\n",
    "\n",
    "# Put the flux into a binned scheme which matches the Fermi photon model bins\n",
    "fermi_binned = np.zeros(photon_model_edges.size - 1)\n",
    "for i in range(photon_model_edges.size-1):\n",
    "    ea, eb = photon_model_edges[i], photon_model_edges[i+1]\n",
    "    flux = integrate.quad(gelu_interp, ea.to_value(u.keV), eb.to_value(u.keV))[0]\n",
    "    fermi_binned[i] = flux\n",
    "fermi_binned = np.array(fermi_binned) << u.ph / u.cm**2 / u.s\n",
    "fermi_binned[fermi_binned <= 0] = 0\n",
    "fermi_binned /= np.diff(photon_model_edges)"
   ]
  },
  {
   "cell_type": "markdown",
   "metadata": {},
   "source": [
    "## Plot everything"
   ]
  },
  {
   "cell_type": "code",
   "execution_count": null,
   "metadata": {},
   "outputs": [],
   "source": [
    "fig, ax = plt.subplots(layout='constrained')\n",
    "ax.stairs(\n",
    "    (fermi_load.DETECTOR_AREA * fermi_binned).to_value(u.ph / u.keV / u.s),\n",
    "    photon_model_edges.to_value(u.keV),\n",
    "    label='binned photon model (ph / keV / s)'\n",
    ")\n",
    "\n",
    "simulated_counts = ((fermi_binned * np.diff(photon_model_edges)) @ srm) / np.diff(count_bins)\n",
    "ax.stairs(\n",
    "    simulated_counts,\n",
    "    count_bins.to_value(u.keV),\n",
    "    label='Gelu model passed through response (ct / s / keV)'\n",
    ")\n",
    "\n",
    "sliced = fermi_load.slice_ctime(cspec_dat, start.datetime, end.datetime)\n",
    "real_count_rate = np.sum(\n",
    "    sliced.counts / sliced.dt.sum() / np.diff(count_bins),\n",
    "    axis=0\n",
    ")\n",
    "\n",
    "ax.stairs(\n",
    "    real_count_rate.to_value(u.ct / u.s / u.keV),\n",
    "    count_bins.to_value(u.keV),\n",
    "    label='Fermi/GBM observed data (ct / s / keV)',\n",
    "    color='black'\n",
    ")\n",
    "\n",
    "energy_midpoints = count_bins[:-1] + np.diff(count_bins)/2\n",
    "real_count_rate_error = np.sum(\n",
    "    (np.sqrt(sliced.counts.value) << u.ct) / sliced.dt.sum() / np.diff(count_bins),\n",
    "    axis=0,\n",
    ")\n",
    "ax.errorbar(\n",
    "    energy_midpoints.to_value(u.keV),\n",
    "    real_count_rate.to_value(u.ct / u.s / u.keV),\n",
    "    yerr=real_count_rate_error.to_value(u.ct / u.s / u.keV),\n",
    "    linestyle='None',\n",
    "    color='black'\n",
    ")\n",
    "\n",
    "ax.set(title='Fermi/GBM comparison', xlabel='photon energy (keV)', ylabel='flux (different units)', xscale='log', yscale='log')\n",
    "ax.legend()"
   ]
  },
  {
   "cell_type": "markdown",
   "metadata": {},
   "source": [
    "## Note that the above model is off by a scaling factor because the flux has been scaled by Earth/SOLO distance."
   ]
  },
  {
   "cell_type": "markdown",
   "metadata": {},
   "source": [
    "# STIX case"
   ]
  },
  {
   "cell_type": "code",
   "execution_count": null,
   "metadata": {},
   "outputs": [],
   "source": [
    "from stix_support import stix_srm_loader\n",
    "import importlib\n",
    "importlib.reload(stix_srm_loader)"
   ]
  },
  {
   "cell_type": "markdown",
   "metadata": {},
   "source": [
    "## Load in the STIX SRM file"
   ]
  },
  {
   "cell_type": "code",
   "execution_count": null,
   "metadata": {},
   "outputs": [],
   "source": [
    "stix_srm = stix_srm_loader.stix_srm_for_sunxspex('stx_srm_2203285726.fits')"
   ]
  },
  {
   "cell_type": "code",
   "execution_count": null,
   "metadata": {},
   "outputs": [],
   "source": [
    "photon_model_edges = np.concatenate((\n",
    "    stix_srm['photon_channel_bins'][:, 0],\n",
    "    [stix_srm['photon_channel_bins'][-1, -1]]\n",
    ")) << u.keV\n",
    "count_bins = np.concatenate((\n",
    "    stix_srm['count_channel_bins'][:, 0],\n",
    "    [stix_srm['count_channel_bins'][-1, -1]]\n",
    ")) << u.keV\n",
    "gelu_data = readsav('xray_spectrum.sav')\n",
    "\n",
    "srm = stix_srm['srm'] << u.cm**2 * u.ct / u.ph\n",
    "\n",
    "def gelu_interp(x):\n",
    "    return np.interp(x, gelu_data['energies'], gelu_data['spectrum'], left=0, right=0)\n",
    "\n",
    "# Put the flux into a binned scheme which matches the STIX photon model bins\n",
    "stix_binned = np.zeros(photon_model_edges.size - 1)\n",
    "for i in range(photon_model_edges.size-1):\n",
    "    ea, eb = photon_model_edges[i], photon_model_edges[i+1]\n",
    "    flux = integrate.quad(gelu_interp, ea.to_value(u.keV), eb.to_value(u.keV))[0]\n",
    "    stix_binned[i] = flux\n",
    "stix_binned = np.array(stix_binned) << u.ph / u.cm**2 / u.s\n",
    "stix_binned[stix_binned <= 0] = 0\n",
    "stix_binned /= np.diff(photon_model_edges)"
   ]
  },
  {
   "cell_type": "markdown",
   "metadata": {},
   "source": [
    "## Load in stix data"
   ]
  },
  {
   "cell_type": "code",
   "execution_count": null,
   "metadata": {},
   "outputs": [],
   "source": [
    "with fits.open('stx_spectrum_2203285726.fits') as f:\n",
    "    # Find the observation window\n",
    "    head = f['rate'].header\n",
    "    ref = head['MJDREF']\n",
    "    tzero = head['TIMEZERO']\n",
    "    time_shift = f['rate'].data['time'] << u.s\n",
    "\n",
    "    times = atime.Time(atime.Time(ref + tzero, format='mjd') + time_shift, format='iso')\n",
    "    start, end = atime.Time('2022-03-28T17:12:18'), atime.Time('2022-03-28T17:12:21')\n",
    "\n",
    "    # Find the time bins closest to the observation times\n",
    "    nearest = lambda a, v: np.argmin(np.abs(a - v))\n",
    "    starti, endi = nearest(times, start), nearest(times, end)\n",
    "    starti, endi\n",
    "\n",
    "    stix_count_rate = f['rate'].data['rate'][starti:endi].sum(axis=0) << (u.ct / u.s)\n",
    "    stix_count_rate /= np.diff(count_bins)\n",
    "\n",
    "    stix_count_rate_error = f['rate'].data['stat_err'][starti:endi].sum(axis=0) << (u.ct / u.s)\n",
    "    stix_count_rate_error /= np.diff(count_bins)\n",
    "    stix_count_rate_error[stix_count_rate_error <= 0] = 0"
   ]
  },
  {
   "cell_type": "markdown",
   "metadata": {},
   "source": [
    "## Plot it"
   ]
  },
  {
   "cell_type": "code",
   "execution_count": null,
   "metadata": {},
   "outputs": [],
   "source": [
    "fig, ax = plt.subplots(layout='constrained')\n",
    "\n",
    "ax.stairs(\n",
    "    (stix_srm['area'] * stix_binned).to_value(u.ph / u.keV / u.s),\n",
    "    photon_model_edges.to_value(u.keV),\n",
    "    label='binned photon model (ph / keV / s)'\n",
    ")\n",
    "\n",
    "simulated_counts = ((stix_binned * np.diff(photon_model_edges)) @ srm) / np.diff(count_bins)\n",
    "ax.stairs(\n",
    "    simulated_counts,\n",
    "    count_bins.to_value(u.keV),\n",
    "    label='Gelu model passed through response (ct / s / keV)'\n",
    ")\n",
    "\n",
    "ax.stairs(\n",
    "    stix_count_rate.to_value(u.ct / u.s / u.keV),\n",
    "    count_bins.to_value(u.keV),\n",
    "    label='Observed STIX counts',\n",
    "    color='black'\n",
    ")\n",
    "energy_midpoints = count_bins[:-1] + np.diff(count_bins)/2\n",
    "ax.errorbar(\n",
    "    energy_midpoints.to_value(u.keV),\n",
    "    stix_count_rate.to_value(u.ct / u.s / u.keV),\n",
    "    yerr=stix_count_rate_error.to_value(u.ct / u.s / u.keV),\n",
    "    linestyle='None',\n",
    "    color='black'\n",
    ")\n",
    "\n",
    "ax.set(title='STIX comparison', xlabel='photon energy (keV)', ylabel='flux (different units)', xscale='log', yscale='log')\n",
    "ax.legend()"
   ]
  },
  {
   "cell_type": "markdown",
   "metadata": {},
   "source": [
    "## In X-ray fitting we often add systematic error onto the counts as follows:\n",
    "## $\\sigma_\\text{tot} = \\sqrt{\\sigma_\\text{obs}^2 + (\\alpha \\cdot c)^2}$, where $\\alpha$ is some small percentage (like 5%) and $c$ is the counts in each bin.\n",
    "## Might be necessary to get agreement with GX_Simulator results."
   ]
  }
 ],
 "metadata": {
  "kernelspec": {
   "display_name": "Python 3",
   "language": "python",
   "name": "python3"
  },
  "language_info": {
   "codemirror_mode": {
    "name": "ipython",
    "version": 3
   },
   "file_extension": ".py",
   "mimetype": "text/x-python",
   "name": "python",
   "nbconvert_exporter": "python",
   "pygments_lexer": "ipython3",
   "version": "3.12.1"
  }
 },
 "nbformat": 4,
 "nbformat_minor": 2
}
